{
 "cells": [
  {
   "cell_type": "code",
   "execution_count": 2,
   "metadata": {
    "collapsed": true
   },
   "outputs": [],
   "source": [
    "import pandas as pd\n",
    "import numpy as np\n",
    "import os"
   ]
  },
  {
   "cell_type": "code",
   "execution_count": 3,
   "metadata": {},
   "outputs": [
    {
     "data": {
      "text/plain": [
       "'C:\\\\Users\\\\Administrator\\\\Documents\\\\python\\\\class\\\\Python Assignments\\\\DataSets'"
      ]
     },
     "execution_count": 3,
     "metadata": {},
     "output_type": "execute_result"
    }
   ],
   "source": [
    "os.chdir('C:/Users/Administrator/Documents/python/class/Python Assignments/DataSets')\n",
    "os.getcwd()"
   ]
  },
  {
   "cell_type": "code",
   "execution_count": 4,
   "metadata": {},
   "outputs": [
    {
     "name": "stderr",
     "output_type": "stream",
     "text": [
      "C:\\ProgramData\\Anaconda3\\lib\\site-packages\\IPython\\core\\interactiveshell.py:2698: DtypeWarning: Columns (4,61,62,66,116,117,123) have mixed types. Specify dtype option on import or set low_memory=False.\n",
      "  interactivity=interactivity, compiler=compiler, result=result)\n"
     ]
    }
   ],
   "source": [
    "terror = pd.read_csv('terror.csv', encoding = 'latin')"
   ]
  },
  {
   "cell_type": "code",
   "execution_count": 5,
   "metadata": {},
   "outputs": [
    {
     "data": {
      "text/html": [
       "<div>\n",
       "<style>\n",
       "    .dataframe thead tr:only-child th {\n",
       "        text-align: right;\n",
       "    }\n",
       "\n",
       "    .dataframe thead th {\n",
       "        text-align: left;\n",
       "    }\n",
       "\n",
       "    .dataframe tbody tr th {\n",
       "        vertical-align: top;\n",
       "    }\n",
       "</style>\n",
       "<table border=\"1\" class=\"dataframe\">\n",
       "  <thead>\n",
       "    <tr style=\"text-align: right;\">\n",
       "      <th></th>\n",
       "      <th>eventid</th>\n",
       "      <th>iyear</th>\n",
       "      <th>imonth</th>\n",
       "      <th>iday</th>\n",
       "      <th>approxdate</th>\n",
       "      <th>extended</th>\n",
       "      <th>resolution</th>\n",
       "      <th>country</th>\n",
       "      <th>country_txt</th>\n",
       "      <th>region</th>\n",
       "      <th>...</th>\n",
       "      <th>addnotes</th>\n",
       "      <th>scite1</th>\n",
       "      <th>scite2</th>\n",
       "      <th>scite3</th>\n",
       "      <th>dbsource</th>\n",
       "      <th>INT_LOG</th>\n",
       "      <th>INT_IDEO</th>\n",
       "      <th>INT_MISC</th>\n",
       "      <th>INT_ANY</th>\n",
       "      <th>related</th>\n",
       "    </tr>\n",
       "  </thead>\n",
       "  <tbody>\n",
       "    <tr>\n",
       "      <th>0</th>\n",
       "      <td>197000000001</td>\n",
       "      <td>1970</td>\n",
       "      <td>0</td>\n",
       "      <td>0</td>\n",
       "      <td>NaN</td>\n",
       "      <td>0</td>\n",
       "      <td>NaN</td>\n",
       "      <td>58</td>\n",
       "      <td>Dominican Republic</td>\n",
       "      <td>2</td>\n",
       "      <td>...</td>\n",
       "      <td>NaN</td>\n",
       "      <td>NaN</td>\n",
       "      <td>NaN</td>\n",
       "      <td>NaN</td>\n",
       "      <td>PGIS</td>\n",
       "      <td>0</td>\n",
       "      <td>0</td>\n",
       "      <td>0</td>\n",
       "      <td>0</td>\n",
       "      <td>NaN</td>\n",
       "    </tr>\n",
       "    <tr>\n",
       "      <th>1</th>\n",
       "      <td>197000000002</td>\n",
       "      <td>1970</td>\n",
       "      <td>0</td>\n",
       "      <td>0</td>\n",
       "      <td>NaN</td>\n",
       "      <td>0</td>\n",
       "      <td>NaN</td>\n",
       "      <td>130</td>\n",
       "      <td>Mexico</td>\n",
       "      <td>1</td>\n",
       "      <td>...</td>\n",
       "      <td>NaN</td>\n",
       "      <td>NaN</td>\n",
       "      <td>NaN</td>\n",
       "      <td>NaN</td>\n",
       "      <td>PGIS</td>\n",
       "      <td>0</td>\n",
       "      <td>1</td>\n",
       "      <td>1</td>\n",
       "      <td>1</td>\n",
       "      <td>NaN</td>\n",
       "    </tr>\n",
       "    <tr>\n",
       "      <th>2</th>\n",
       "      <td>197001000001</td>\n",
       "      <td>1970</td>\n",
       "      <td>1</td>\n",
       "      <td>0</td>\n",
       "      <td>NaN</td>\n",
       "      <td>0</td>\n",
       "      <td>NaN</td>\n",
       "      <td>160</td>\n",
       "      <td>Philippines</td>\n",
       "      <td>5</td>\n",
       "      <td>...</td>\n",
       "      <td>NaN</td>\n",
       "      <td>NaN</td>\n",
       "      <td>NaN</td>\n",
       "      <td>NaN</td>\n",
       "      <td>PGIS</td>\n",
       "      <td>-9</td>\n",
       "      <td>-9</td>\n",
       "      <td>1</td>\n",
       "      <td>1</td>\n",
       "      <td>NaN</td>\n",
       "    </tr>\n",
       "    <tr>\n",
       "      <th>3</th>\n",
       "      <td>197001000002</td>\n",
       "      <td>1970</td>\n",
       "      <td>1</td>\n",
       "      <td>0</td>\n",
       "      <td>NaN</td>\n",
       "      <td>0</td>\n",
       "      <td>NaN</td>\n",
       "      <td>78</td>\n",
       "      <td>Greece</td>\n",
       "      <td>8</td>\n",
       "      <td>...</td>\n",
       "      <td>NaN</td>\n",
       "      <td>NaN</td>\n",
       "      <td>NaN</td>\n",
       "      <td>NaN</td>\n",
       "      <td>PGIS</td>\n",
       "      <td>-9</td>\n",
       "      <td>-9</td>\n",
       "      <td>1</td>\n",
       "      <td>1</td>\n",
       "      <td>NaN</td>\n",
       "    </tr>\n",
       "    <tr>\n",
       "      <th>4</th>\n",
       "      <td>197001000003</td>\n",
       "      <td>1970</td>\n",
       "      <td>1</td>\n",
       "      <td>0</td>\n",
       "      <td>NaN</td>\n",
       "      <td>0</td>\n",
       "      <td>NaN</td>\n",
       "      <td>101</td>\n",
       "      <td>Japan</td>\n",
       "      <td>4</td>\n",
       "      <td>...</td>\n",
       "      <td>NaN</td>\n",
       "      <td>NaN</td>\n",
       "      <td>NaN</td>\n",
       "      <td>NaN</td>\n",
       "      <td>PGIS</td>\n",
       "      <td>-9</td>\n",
       "      <td>-9</td>\n",
       "      <td>1</td>\n",
       "      <td>1</td>\n",
       "      <td>NaN</td>\n",
       "    </tr>\n",
       "  </tbody>\n",
       "</table>\n",
       "<p>5 rows × 137 columns</p>\n",
       "</div>"
      ],
      "text/plain": [
       "        eventid  iyear  imonth  iday approxdate  extended resolution  country  \\\n",
       "0  197000000001   1970       0     0        NaN         0        NaN       58   \n",
       "1  197000000002   1970       0     0        NaN         0        NaN      130   \n",
       "2  197001000001   1970       1     0        NaN         0        NaN      160   \n",
       "3  197001000002   1970       1     0        NaN         0        NaN       78   \n",
       "4  197001000003   1970       1     0        NaN         0        NaN      101   \n",
       "\n",
       "          country_txt  region   ...    addnotes scite1 scite2  scite3  \\\n",
       "0  Dominican Republic       2   ...         NaN    NaN    NaN     NaN   \n",
       "1              Mexico       1   ...         NaN    NaN    NaN     NaN   \n",
       "2         Philippines       5   ...         NaN    NaN    NaN     NaN   \n",
       "3              Greece       8   ...         NaN    NaN    NaN     NaN   \n",
       "4               Japan       4   ...         NaN    NaN    NaN     NaN   \n",
       "\n",
       "   dbsource  INT_LOG  INT_IDEO INT_MISC INT_ANY  related  \n",
       "0      PGIS        0         0        0       0      NaN  \n",
       "1      PGIS        0         1        1       1      NaN  \n",
       "2      PGIS       -9        -9        1       1      NaN  \n",
       "3      PGIS       -9        -9        1       1      NaN  \n",
       "4      PGIS       -9        -9        1       1      NaN  \n",
       "\n",
       "[5 rows x 137 columns]"
      ]
     },
     "execution_count": 5,
     "metadata": {},
     "output_type": "execute_result"
    }
   ],
   "source": [
    "terror.head()"
   ]
  },
  {
   "cell_type": "code",
   "execution_count": 6,
   "metadata": {},
   "outputs": [
    {
     "data": {
      "text/plain": [
       "(156772, 137)"
      ]
     },
     "execution_count": 6,
     "metadata": {},
     "output_type": "execute_result"
    }
   ],
   "source": [
    "terror.shape"
   ]
  },
  {
   "cell_type": "markdown",
   "metadata": {},
   "source": [
    "## Queries\n",
    "\n",
    "### 1 How many attacks happened in India?"
   ]
  },
  {
   "cell_type": "code",
   "execution_count": 19,
   "metadata": {},
   "outputs": [
    {
     "data": {
      "text/plain": [
       "9940"
      ]
     },
     "execution_count": 19,
     "metadata": {},
     "output_type": "execute_result"
    }
   ],
   "source": [
    "terror[terror.country_txt == 'India'].shape[0]\n",
    "sum(terror.country_txt == 'India')"
   ]
  },
  {
   "cell_type": "markdown",
   "metadata": {},
   "source": [
    "### 2 How many attacks happened in India and upto 3 people were killed? "
   ]
  },
  {
   "cell_type": "code",
   "execution_count": 30,
   "metadata": {},
   "outputs": [
    {
     "data": {
      "text/plain": [
       "116769    0.5\n",
       "116770    0.5\n",
       "121220    0.5\n",
       "121221    0.5\n",
       "130867    0.5\n",
       "130868    0.5\n",
       "Name: nkill, dtype: float64"
      ]
     },
     "execution_count": 30,
     "metadata": {},
     "output_type": "execute_result"
    }
   ],
   "source": [
    "sub = terror[(terror.country_txt == 'India') & (terror.nkill < 3)]\n",
    "sub[sub.nkill %1 != 0].nkill"
   ]
  },
  {
   "cell_type": "code",
   "execution_count": 32,
   "metadata": {},
   "outputs": [
    {
     "data": {
      "text/plain": [
       "7961"
      ]
     },
     "execution_count": 32,
     "metadata": {},
     "output_type": "execute_result"
    }
   ],
   "source": [
    "terror[(terror.country_txt == 'India') & (terror.nkill < 3)].shape[0]"
   ]
  },
  {
   "cell_type": "code",
   "execution_count": 15,
   "metadata": {},
   "outputs": [
    {
     "data": {
      "text/plain": [
       "Index(['eventid', 'iyear', 'imonth', 'iday', 'approxdate', 'extended',\n",
       "       'resolution', 'country', 'country_txt', 'region',\n",
       "       ...\n",
       "       'scite1', 'scite2', 'scite3', 'dbsource', 'INT_LOG', 'INT_IDEO',\n",
       "       'INT_MISC', 'INT_ANY', 'related', 'condition'],\n",
       "      dtype='object', length=138)"
      ]
     },
     "execution_count": 15,
     "metadata": {},
     "output_type": "execute_result"
    }
   ],
   "source": [
    "terror.columns"
   ]
  },
  {
   "cell_type": "markdown",
   "metadata": {},
   "source": [
    "### 3 Extract the city and summary for attacks above"
   ]
  },
  {
   "cell_type": "code",
   "execution_count": 36,
   "metadata": {},
   "outputs": [
    {
     "data": {
      "text/html": [
       "<div>\n",
       "<style>\n",
       "    .dataframe thead tr:only-child th {\n",
       "        text-align: right;\n",
       "    }\n",
       "\n",
       "    .dataframe thead th {\n",
       "        text-align: left;\n",
       "    }\n",
       "\n",
       "    .dataframe tbody tr th {\n",
       "        vertical-align: top;\n",
       "    }\n",
       "</style>\n",
       "<table border=\"1\" class=\"dataframe\">\n",
       "  <thead>\n",
       "    <tr style=\"text-align: right;\">\n",
       "      <th></th>\n",
       "      <th>city</th>\n",
       "      <th>summary</th>\n",
       "    </tr>\n",
       "  </thead>\n",
       "  <tbody>\n",
       "    <tr>\n",
       "      <th>1185</th>\n",
       "      <td>New Delhi</td>\n",
       "      <td>NaN</td>\n",
       "    </tr>\n",
       "    <tr>\n",
       "      <th>3780</th>\n",
       "      <td>New Delhi</td>\n",
       "      <td>NaN</td>\n",
       "    </tr>\n",
       "    <tr>\n",
       "      <th>5251</th>\n",
       "      <td>Bombay</td>\n",
       "      <td>NaN</td>\n",
       "    </tr>\n",
       "    <tr>\n",
       "      <th>8609</th>\n",
       "      <td>Unknown</td>\n",
       "      <td>NaN</td>\n",
       "    </tr>\n",
       "    <tr>\n",
       "      <th>8755</th>\n",
       "      <td>Unknown</td>\n",
       "      <td>NaN</td>\n",
       "    </tr>\n",
       "    <tr>\n",
       "      <th>8977</th>\n",
       "      <td>Amapur</td>\n",
       "      <td>NaN</td>\n",
       "    </tr>\n",
       "    <tr>\n",
       "      <th>9037</th>\n",
       "      <td>Raisikah</td>\n",
       "      <td>NaN</td>\n",
       "    </tr>\n",
       "    <tr>\n",
       "      <th>9040</th>\n",
       "      <td>Champhai</td>\n",
       "      <td>NaN</td>\n",
       "    </tr>\n",
       "    <tr>\n",
       "      <th>9070</th>\n",
       "      <td>Aizawl</td>\n",
       "      <td>NaN</td>\n",
       "    </tr>\n",
       "    <tr>\n",
       "      <th>9072</th>\n",
       "      <td>Jamshedpur</td>\n",
       "      <td>NaN</td>\n",
       "    </tr>\n",
       "    <tr>\n",
       "      <th>9081</th>\n",
       "      <td>New Delhi</td>\n",
       "      <td>NaN</td>\n",
       "    </tr>\n",
       "    <tr>\n",
       "      <th>9082</th>\n",
       "      <td>New Delhi</td>\n",
       "      <td>NaN</td>\n",
       "    </tr>\n",
       "    <tr>\n",
       "      <th>9691</th>\n",
       "      <td>Unknown</td>\n",
       "      <td>NaN</td>\n",
       "    </tr>\n",
       "    <tr>\n",
       "      <th>9732</th>\n",
       "      <td>Unknown</td>\n",
       "      <td>NaN</td>\n",
       "    </tr>\n",
       "    <tr>\n",
       "      <th>9841</th>\n",
       "      <td>Imphal</td>\n",
       "      <td>NaN</td>\n",
       "    </tr>\n",
       "    <tr>\n",
       "      <th>9887</th>\n",
       "      <td>Unknown</td>\n",
       "      <td>NaN</td>\n",
       "    </tr>\n",
       "    <tr>\n",
       "      <th>10407</th>\n",
       "      <td>Chiaplant</td>\n",
       "      <td>NaN</td>\n",
       "    </tr>\n",
       "    <tr>\n",
       "      <th>10522</th>\n",
       "      <td>Calcutta</td>\n",
       "      <td>NaN</td>\n",
       "    </tr>\n",
       "    <tr>\n",
       "      <th>10744</th>\n",
       "      <td>New Delhi</td>\n",
       "      <td>NaN</td>\n",
       "    </tr>\n",
       "    <tr>\n",
       "      <th>12187</th>\n",
       "      <td>Unknown</td>\n",
       "      <td>NaN</td>\n",
       "    </tr>\n",
       "    <tr>\n",
       "      <th>12391</th>\n",
       "      <td>Unknown</td>\n",
       "      <td>NaN</td>\n",
       "    </tr>\n",
       "    <tr>\n",
       "      <th>12439</th>\n",
       "      <td>Unknown</td>\n",
       "      <td>NaN</td>\n",
       "    </tr>\n",
       "    <tr>\n",
       "      <th>13049</th>\n",
       "      <td>Gauhati</td>\n",
       "      <td>NaN</td>\n",
       "    </tr>\n",
       "    <tr>\n",
       "      <th>13177</th>\n",
       "      <td>Jorhat</td>\n",
       "      <td>NaN</td>\n",
       "    </tr>\n",
       "    <tr>\n",
       "      <th>13875</th>\n",
       "      <td>Unknown</td>\n",
       "      <td>NaN</td>\n",
       "    </tr>\n",
       "    <tr>\n",
       "      <th>14058</th>\n",
       "      <td>Unknown</td>\n",
       "      <td>NaN</td>\n",
       "    </tr>\n",
       "    <tr>\n",
       "      <th>14059</th>\n",
       "      <td>Unknown</td>\n",
       "      <td>NaN</td>\n",
       "    </tr>\n",
       "    <tr>\n",
       "      <th>14287</th>\n",
       "      <td>Massad</td>\n",
       "      <td>NaN</td>\n",
       "    </tr>\n",
       "    <tr>\n",
       "      <th>14371</th>\n",
       "      <td>New Delhi</td>\n",
       "      <td>NaN</td>\n",
       "    </tr>\n",
       "    <tr>\n",
       "      <th>14476</th>\n",
       "      <td>Chandigarh</td>\n",
       "      <td>NaN</td>\n",
       "    </tr>\n",
       "    <tr>\n",
       "      <th>...</th>\n",
       "      <td>...</td>\n",
       "      <td>...</td>\n",
       "    </tr>\n",
       "    <tr>\n",
       "      <th>156156</th>\n",
       "      <td>Dariyakona</td>\n",
       "      <td>12/15/2015: Assailants abducted Baghel Gond fr...</td>\n",
       "    </tr>\n",
       "    <tr>\n",
       "      <th>156176</th>\n",
       "      <td>Awapalli</td>\n",
       "      <td>12/15/2015: An explosive device detonated in A...</td>\n",
       "    </tr>\n",
       "    <tr>\n",
       "      <th>156243</th>\n",
       "      <td>Srinagar</td>\n",
       "      <td>12/17/2015: Assailants fired a rifle grenade a...</td>\n",
       "    </tr>\n",
       "    <tr>\n",
       "      <th>156248</th>\n",
       "      <td>Imphal</td>\n",
       "      <td>12/17/2015: An explosive device detonated in D...</td>\n",
       "    </tr>\n",
       "    <tr>\n",
       "      <th>156249</th>\n",
       "      <td>Williamnagar</td>\n",
       "      <td>12/17/2015: Assailants threw a grenade at a st...</td>\n",
       "    </tr>\n",
       "    <tr>\n",
       "      <th>156292</th>\n",
       "      <td>Pookottumpadam</td>\n",
       "      <td>12/18/2015: Assailants attacked an Indian Fore...</td>\n",
       "    </tr>\n",
       "    <tr>\n",
       "      <th>156314</th>\n",
       "      <td>Kalia Atala</td>\n",
       "      <td>12/19/2015: Assailants torched an Airtel cell ...</td>\n",
       "    </tr>\n",
       "    <tr>\n",
       "      <th>156339</th>\n",
       "      <td>Chipakur</td>\n",
       "      <td>12/20/2015: Assailants torched an under-constr...</td>\n",
       "    </tr>\n",
       "    <tr>\n",
       "      <th>156340</th>\n",
       "      <td>Kakpora</td>\n",
       "      <td>12/20/2015: Assailants threw a grenade at the ...</td>\n",
       "    </tr>\n",
       "    <tr>\n",
       "      <th>156383</th>\n",
       "      <td>Bastar district</td>\n",
       "      <td>12/21/2015: Security forces arrested three ass...</td>\n",
       "    </tr>\n",
       "    <tr>\n",
       "      <th>156384</th>\n",
       "      <td>Madathakonda</td>\n",
       "      <td>12/21/2015: Assailants abducted and killed Van...</td>\n",
       "    </tr>\n",
       "    <tr>\n",
       "      <th>156385</th>\n",
       "      <td>Madathakonda</td>\n",
       "      <td>12/21/2015: Assailants beat a civilian in Mada...</td>\n",
       "    </tr>\n",
       "    <tr>\n",
       "      <th>156388</th>\n",
       "      <td>Badapokharia</td>\n",
       "      <td>12/21/2015: Assailants threw at least nine cru...</td>\n",
       "    </tr>\n",
       "    <tr>\n",
       "      <th>156389</th>\n",
       "      <td>Simra Nizamat</td>\n",
       "      <td>12/21/2015: Police discovered and defused two ...</td>\n",
       "    </tr>\n",
       "    <tr>\n",
       "      <th>156433</th>\n",
       "      <td>Imphal</td>\n",
       "      <td>12/22/2015: Assailants shot and killed a baker...</td>\n",
       "    </tr>\n",
       "    <tr>\n",
       "      <th>156458</th>\n",
       "      <td>Nilawaya</td>\n",
       "      <td>12/23/2015: Assailants abducted Hadma Ram, a f...</td>\n",
       "    </tr>\n",
       "    <tr>\n",
       "      <th>156459</th>\n",
       "      <td>Imphal</td>\n",
       "      <td>12/23/2015: An explosive device planted under ...</td>\n",
       "    </tr>\n",
       "    <tr>\n",
       "      <th>156483</th>\n",
       "      <td>Bijbehara</td>\n",
       "      <td>12/24/2015: Assailants opened fire on police p...</td>\n",
       "    </tr>\n",
       "    <tr>\n",
       "      <th>156499</th>\n",
       "      <td>Ramgarh</td>\n",
       "      <td>12/24/2015: Assailants detonated explosive dev...</td>\n",
       "    </tr>\n",
       "    <tr>\n",
       "      <th>156529</th>\n",
       "      <td>Badapadar</td>\n",
       "      <td>12/25/2015: Assailants attacked Jayaram Khara ...</td>\n",
       "    </tr>\n",
       "    <tr>\n",
       "      <th>156530</th>\n",
       "      <td>Kudumulgumma Raba</td>\n",
       "      <td>12/25/2015: Assailants attacked Sahdev Badanay...</td>\n",
       "    </tr>\n",
       "    <tr>\n",
       "      <th>156533</th>\n",
       "      <td>Sivasagar</td>\n",
       "      <td>12/25/2015: Security forces discovered and def...</td>\n",
       "    </tr>\n",
       "    <tr>\n",
       "      <th>156569</th>\n",
       "      <td>Pariya</td>\n",
       "      <td>12/26/2015: Assailants abducted Sujit Modiyami...</td>\n",
       "    </tr>\n",
       "    <tr>\n",
       "      <th>156612</th>\n",
       "      <td>Tillayya</td>\n",
       "      <td>12/26/2015: An assailant attempted to plant an...</td>\n",
       "    </tr>\n",
       "    <tr>\n",
       "      <th>156658</th>\n",
       "      <td>Mendhar</td>\n",
       "      <td>12/27/2015: An explosive device planted under ...</td>\n",
       "    </tr>\n",
       "    <tr>\n",
       "      <th>156695</th>\n",
       "      <td>Terem</td>\n",
       "      <td>12/29/2015: Assailants abducted three students...</td>\n",
       "    </tr>\n",
       "    <tr>\n",
       "      <th>156698</th>\n",
       "      <td>Peravurani</td>\n",
       "      <td>12/29/2015: An explosive device was discovered...</td>\n",
       "    </tr>\n",
       "    <tr>\n",
       "      <th>156713</th>\n",
       "      <td>Tulsibari</td>\n",
       "      <td>12/29/2015: Assailants abducted Hazrat Ali in ...</td>\n",
       "    </tr>\n",
       "    <tr>\n",
       "      <th>156725</th>\n",
       "      <td>Zhutovi</td>\n",
       "      <td>12/30/2015: Assailants attempted to extort mon...</td>\n",
       "    </tr>\n",
       "    <tr>\n",
       "      <th>156756</th>\n",
       "      <td>Srinagar</td>\n",
       "      <td>12/31/2015: Assailants threw a grenade at an I...</td>\n",
       "    </tr>\n",
       "  </tbody>\n",
       "</table>\n",
       "<p>7961 rows × 2 columns</p>\n",
       "</div>"
      ],
      "text/plain": [
       "                     city                                            summary\n",
       "1185            New Delhi                                                NaN\n",
       "3780            New Delhi                                                NaN\n",
       "5251               Bombay                                                NaN\n",
       "8609              Unknown                                                NaN\n",
       "8755              Unknown                                                NaN\n",
       "8977               Amapur                                                NaN\n",
       "9037             Raisikah                                                NaN\n",
       "9040             Champhai                                                NaN\n",
       "9070               Aizawl                                                NaN\n",
       "9072           Jamshedpur                                                NaN\n",
       "9081            New Delhi                                                NaN\n",
       "9082            New Delhi                                                NaN\n",
       "9691              Unknown                                                NaN\n",
       "9732              Unknown                                                NaN\n",
       "9841               Imphal                                                NaN\n",
       "9887              Unknown                                                NaN\n",
       "10407           Chiaplant                                                NaN\n",
       "10522            Calcutta                                                NaN\n",
       "10744           New Delhi                                                NaN\n",
       "12187             Unknown                                                NaN\n",
       "12391             Unknown                                                NaN\n",
       "12439             Unknown                                                NaN\n",
       "13049             Gauhati                                                NaN\n",
       "13177              Jorhat                                                NaN\n",
       "13875             Unknown                                                NaN\n",
       "14058             Unknown                                                NaN\n",
       "14059             Unknown                                                NaN\n",
       "14287              Massad                                                NaN\n",
       "14371           New Delhi                                                NaN\n",
       "14476          Chandigarh                                                NaN\n",
       "...                   ...                                                ...\n",
       "156156         Dariyakona  12/15/2015: Assailants abducted Baghel Gond fr...\n",
       "156176           Awapalli  12/15/2015: An explosive device detonated in A...\n",
       "156243           Srinagar  12/17/2015: Assailants fired a rifle grenade a...\n",
       "156248             Imphal  12/17/2015: An explosive device detonated in D...\n",
       "156249       Williamnagar  12/17/2015: Assailants threw a grenade at a st...\n",
       "156292     Pookottumpadam  12/18/2015: Assailants attacked an Indian Fore...\n",
       "156314        Kalia Atala  12/19/2015: Assailants torched an Airtel cell ...\n",
       "156339           Chipakur  12/20/2015: Assailants torched an under-constr...\n",
       "156340            Kakpora  12/20/2015: Assailants threw a grenade at the ...\n",
       "156383    Bastar district  12/21/2015: Security forces arrested three ass...\n",
       "156384       Madathakonda  12/21/2015: Assailants abducted and killed Van...\n",
       "156385       Madathakonda  12/21/2015: Assailants beat a civilian in Mada...\n",
       "156388       Badapokharia  12/21/2015: Assailants threw at least nine cru...\n",
       "156389      Simra Nizamat  12/21/2015: Police discovered and defused two ...\n",
       "156433             Imphal  12/22/2015: Assailants shot and killed a baker...\n",
       "156458           Nilawaya  12/23/2015: Assailants abducted Hadma Ram, a f...\n",
       "156459             Imphal  12/23/2015: An explosive device planted under ...\n",
       "156483          Bijbehara  12/24/2015: Assailants opened fire on police p...\n",
       "156499            Ramgarh  12/24/2015: Assailants detonated explosive dev...\n",
       "156529          Badapadar  12/25/2015: Assailants attacked Jayaram Khara ...\n",
       "156530  Kudumulgumma Raba  12/25/2015: Assailants attacked Sahdev Badanay...\n",
       "156533          Sivasagar  12/25/2015: Security forces discovered and def...\n",
       "156569             Pariya  12/26/2015: Assailants abducted Sujit Modiyami...\n",
       "156612           Tillayya  12/26/2015: An assailant attempted to plant an...\n",
       "156658            Mendhar  12/27/2015: An explosive device planted under ...\n",
       "156695              Terem  12/29/2015: Assailants abducted three students...\n",
       "156698         Peravurani  12/29/2015: An explosive device was discovered...\n",
       "156713          Tulsibari  12/29/2015: Assailants abducted Hazrat Ali in ...\n",
       "156725            Zhutovi  12/30/2015: Assailants attempted to extort mon...\n",
       "156756           Srinagar  12/31/2015: Assailants threw a grenade at an I...\n",
       "\n",
       "[7961 rows x 2 columns]"
      ]
     },
     "execution_count": 36,
     "metadata": {},
     "output_type": "execute_result"
    }
   ],
   "source": [
    "sub[['city','summary']]"
   ]
  },
  {
   "cell_type": "code",
   "execution_count": 35,
   "metadata": {},
   "outputs": [
    {
     "data": {
      "text/plain": [
       "count         7961\n",
       "unique        3158\n",
       "top       Srinagar\n",
       "freq           525\n",
       "Name: city, dtype: object"
      ]
     },
     "execution_count": 35,
     "metadata": {},
     "output_type": "execute_result"
    }
   ],
   "source": [
    "sub.city.describe()"
   ]
  },
  {
   "cell_type": "markdown",
   "metadata": {},
   "source": [
    "### 4 In a single terror incident in India, find out top 5 cities by number killed"
   ]
  },
  {
   "cell_type": "code",
   "execution_count": 49,
   "metadata": {},
   "outputs": [
    {
     "data": {
      "text/plain": [
       "city\n",
       "Mumbai                188.0\n",
       "Bombay                115.0\n",
       "Jhargam               115.0\n",
       "Dantewada district     82.0\n",
       "Banabari               70.0\n",
       "Name: nkill, dtype: float64"
      ]
     },
     "execution_count": 49,
     "metadata": {},
     "output_type": "execute_result"
    }
   ],
   "source": [
    "terror[terror.country_txt == 'India'].groupby('city').nkill.max().sort_values(ascending = False).head(5)"
   ]
  },
  {
   "cell_type": "markdown",
   "metadata": {},
   "source": [
    "### 5 In a single terror incident in India, find out top 5 cities by number killed and wounded "
   ]
  },
  {
   "cell_type": "code",
   "execution_count": 9,
   "metadata": {},
   "outputs": [
    {
     "data": {
      "text/plain": [
       "array(['Mumbai', 'Dispur', 'Jhargam', 'Chennai', 'New Delhi'], dtype=object)"
      ]
     },
     "execution_count": 9,
     "metadata": {},
     "output_type": "execute_result"
    }
   ],
   "source": [
    "terror['damage'] = terror.nkill + terror.nwound\n",
    "terror[terror.country_txt == 'India'].sort_values('damage', ascending = False).head().city.values"
   ]
  },
  {
   "cell_type": "markdown",
   "metadata": {},
   "source": [
    "### 6 How many attacks were successful that were suicide attacks?"
   ]
  },
  {
   "cell_type": "code",
   "execution_count": 11,
   "metadata": {},
   "outputs": [
    {
     "data": {
      "text/plain": [
       "4260"
      ]
     },
     "execution_count": 11,
     "metadata": {},
     "output_type": "execute_result"
    }
   ],
   "source": [
    "terror[(terror.suicide == 1) & (terror.success == 1)].shape[0]"
   ]
  },
  {
   "cell_type": "markdown",
   "metadata": {},
   "source": [
    "### 7 label all the incidents where the number killed was more than 5 as severe. "
   ]
  },
  {
   "cell_type": "code",
   "execution_count": 9,
   "metadata": {
    "collapsed": true
   },
   "outputs": [],
   "source": [
    "terror['condition'] = ['Severe' if x > 5 else 'Not severe' for x in terror.nkill]"
   ]
  },
  {
   "cell_type": "markdown",
   "metadata": {},
   "source": [
    "### 8 write a function to label an incident that was both successful and suicidal"
   ]
  },
  {
   "cell_type": "code",
   "execution_count": 8,
   "metadata": {},
   "outputs": [
    {
     "data": {
      "text/plain": [
       "array(['no sucess', 'no sucess', 'no sucess', ..., 'no sucess',\n",
       "       'no sucess', 'no sucess'],\n",
       "      dtype='<U18')"
      ]
     },
     "execution_count": 8,
     "metadata": {},
     "output_type": "execute_result"
    }
   ],
   "source": [
    "def check_s(df):\n",
    "    return np.where((df.suicide == 1) & (df.success == 1), 'Sucessfull suicide', 'no sucess')\n",
    "check_s(terror)"
   ]
  },
  {
   "cell_type": "markdown",
   "metadata": {},
   "source": [
    "### 9 Create a new category representing if the incident occured in Afghanistan, Pakistan or India as one level of the category and all the other countries as another level"
   ]
  },
  {
   "cell_type": "code",
   "execution_count": 18,
   "metadata": {},
   "outputs": [
    {
     "data": {
      "text/plain": [
       "not asian    124374\n",
       "asian         32398\n",
       "Name: is_asian, dtype: int64"
      ]
     },
     "execution_count": 18,
     "metadata": {},
     "output_type": "execute_result"
    }
   ],
   "source": [
    "terror['is_asian'] = ['asian' if x in ['Afghanistan', 'Pakistan', 'India'] else 'not asian' for x in terror.country_txt]"
   ]
  },
  {
   "cell_type": "markdown",
   "metadata": {},
   "source": [
    "### 10 How many incidents happened in Af-Pak-India vs ROW?"
   ]
  },
  {
   "cell_type": "code",
   "execution_count": 1,
   "metadata": {},
   "outputs": [
    {
     "ename": "NameError",
     "evalue": "name 'terror' is not defined",
     "output_type": "error",
     "traceback": [
      "\u001b[1;31m---------------------------------------------------------------------------\u001b[0m",
      "\u001b[1;31mNameError\u001b[0m                                 Traceback (most recent call last)",
      "\u001b[1;32m<ipython-input-1-39583a149e4c>\u001b[0m in \u001b[0;36m<module>\u001b[1;34m()\u001b[0m\n\u001b[1;32m----> 1\u001b[1;33m \u001b[0mterror\u001b[0m\u001b[1;33m[\u001b[0m\u001b[1;33m[\u001b[0m\u001b[1;34m'Afghanistan'\u001b[0m\u001b[1;33m,\u001b[0m \u001b[1;34m'Pakistan'\u001b[0m\u001b[1;33m,\u001b[0m \u001b[1;34m'India'\u001b[0m\u001b[1;33m]\u001b[0m\u001b[1;33m]\u001b[0m\u001b[1;33m\u001b[0m\u001b[0m\n\u001b[0m",
      "\u001b[1;31mNameError\u001b[0m: name 'terror' is not defined"
     ]
    }
   ],
   "source": [
    "terror[['Afghanistan', 'Pakistan', 'India']]"
   ]
  },
  {
   "cell_type": "markdown",
   "metadata": {},
   "source": [
    "### 11 List the number of suicides attacks and average kills by Af-Pak-India vs ROW. Rename columns in the output as Average_Kills and Number_Incidents."
   ]
  },
  {
   "cell_type": "code",
   "execution_count": null,
   "metadata": {
    "collapsed": true
   },
   "outputs": [],
   "source": []
  },
  {
   "cell_type": "code",
   "execution_count": null,
   "metadata": {
    "collapsed": true
   },
   "outputs": [],
   "source": []
  }
 ],
 "metadata": {
  "kernelspec": {
   "display_name": "Python 3",
   "language": "python",
   "name": "python3"
  },
  "language_info": {
   "codemirror_mode": {
    "name": "ipython",
    "version": 3
   },
   "file_extension": ".py",
   "mimetype": "text/x-python",
   "name": "python",
   "nbconvert_exporter": "python",
   "pygments_lexer": "ipython3",
   "version": "3.6.3"
  }
 },
 "nbformat": 4,
 "nbformat_minor": 2
}
